{
 "cells": [
  {
   "cell_type": "code",
   "execution_count": 9,
   "metadata": {},
   "outputs": [],
   "source": [
    "import lsst\n",
    "from descwl_shear_sims.wcs import make_wcs, make_dm_wcs"
   ]
  },
  {
   "cell_type": "code",
   "execution_count": 11,
   "metadata": {},
   "outputs": [],
   "source": [
    "des_path = \"/data/groups/jeltema/zhou/cell_based_ssi/data/D00572501_z_c01_r3624p01_immasked.fits.fz\""
   ]
  },
  {
   "cell_type": "code",
   "execution_count": 12,
   "metadata": {},
   "outputs": [],
   "source": [
    "from astropy.io import fits\n",
    "from astropy.wcs import WCS"
   ]
  },
  {
   "cell_type": "code",
   "execution_count": 14,
   "metadata": {},
   "outputs": [
    {
     "name": "stdout",
     "output_type": "stream",
     "text": [
      "Filename: /data/groups/jeltema/zhou/cell_based_ssi/data/D00572501_z_c01_r3624p01_immasked.fits.fz\n",
      "No.    Name      Ver    Type      Cards   Dimensions   Format\n",
      "  0  PRIMARY       1 PrimaryHDU       8   ()      \n",
      "  1  SCI           1 CompImageHDU    337   (2048, 4096)   float32   \n",
      "  2  MSK           1 CompImageHDU     65   (2048, 4096)   int16   \n",
      "  3  WGT           1 CompImageHDU     19   (2048, 4096)   float32   \n"
     ]
    }
   ],
   "source": [
    "# first open the file with astopy\n",
    "hdulist = fits.open(des_path)\n",
    "hdulist.info()"
   ]
  },
  {
   "cell_type": "code",
   "execution_count": 16,
   "metadata": {},
   "outputs": [
    {
     "name": "stdout",
     "output_type": "stream",
     "text": [
      "WCS Keywords\n",
      "\n",
      "Number of WCS axes: 2\n",
      "CTYPE : 'RA---TAN' 'DEC--TAN' \n",
      "CRVAL : 311.5416716989 -53.67665045358 \n",
      "CRPIX : 13436.0896946 6309.89088092 \n",
      "CD1_1 CD1_2  : -3.387386244788e-07 7.307617553327e-05 \n",
      "CD2_1 CD2_2  : -7.285553503202e-05 -1.985305339478e-07 \n",
      "NAXIS : 2048  4096\n"
     ]
    }
   ],
   "source": [
    "fitswcs = WCS(hdulist[1].header)\n",
    "print(fitswcs)"
   ]
  },
  {
   "cell_type": "code",
   "execution_count": 23,
   "metadata": {},
   "outputs": [
    {
     "name": "stdout",
     "output_type": "stream",
     "text": [
      "lsst.afw.image.MaskedImageFitsReader WARN: Expected extension type not found: IMAGE\n",
      "FITS standard SkyWcs:\n",
      "Sky Origin: (311.5458100261, -53.6862700918)\n",
      "Pixel Origin: (13435.1, 6308.89)\n",
      "Pixel Scale: 0.26831 arcsec/pixel\n"
     ]
    }
   ],
   "source": [
    "# read exposure with DM\n",
    "exposure = lsst.afw.image.ExposureF.readFits(des_path)\n",
    "dm_wcs = exposure.getWcs()\n",
    "print(dm_wcs)"
   ]
  },
  {
   "cell_type": "code",
   "execution_count": 30,
   "metadata": {},
   "outputs": [
    {
     "name": "stdout",
     "output_type": "stream",
     "text": [
      "1.0000000000272848\n",
      "1.0000000003228706\n"
     ]
    }
   ],
   "source": [
    "print(fitswcs.wcs.crpix[0] - dm_wcs.getPixelOrigin()[0])\n",
    "print(fitswcs.wcs.crpix[1] - dm_wcs.getPixelOrigin()[1])"
   ]
  }
 ],
 "metadata": {
  "kernelspec": {
   "display_name": "sims",
   "language": "python",
   "name": "python3"
  },
  "language_info": {
   "codemirror_mode": {
    "name": "ipython",
    "version": 3
   },
   "file_extension": ".py",
   "mimetype": "text/x-python",
   "name": "python",
   "nbconvert_exporter": "python",
   "pygments_lexer": "ipython3",
   "version": "3.11.8"
  }
 },
 "nbformat": 4,
 "nbformat_minor": 2
}
