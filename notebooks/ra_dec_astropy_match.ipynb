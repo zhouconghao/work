{
 "cells": [
  {
   "cell_type": "code",
   "execution_count": 12,
   "metadata": {},
   "outputs": [],
   "source": [
    "import numpy as np\n",
    "from astropy.coordinates import SkyCoord\n",
    "import astropy.units as u\n",
    "from astropy.table import Table\n",
    "\n",
    "arcsec2deg = 1 / 3600.\n",
    "\n",
    "# Generate a catalog of random RA and DEC\n",
    "n_objects = 100\n",
    "ra1 = np.random.uniform(0, 360, n_objects)  # Random RA between 0 and 360 degrees\n",
    "dec1 = np.random.uniform(-90, 90, n_objects)  # Random DEC between -90 and 90 degrees\n",
    "\n",
    "# Create a small offset in the second catalog\n",
    "ra_offset = np.random.normal(0, 1 * arcsec2deg, n_objects)  # Small RA offset in arcsec\n",
    "dec_offset = np.random.normal(0, 1 * arcsec2deg, n_objects)  # Small DEC offset in arcsec\n",
    "ra2 = ra1 + ra_offset\n",
    "dec2 = dec1 + dec_offset\n",
    "\n",
    "# Create catalogs using Astropy tables\n",
    "catalog1 = Table([ra1, dec1], names=('ra', 'dec'))\n",
    "catalog2 = Table([ra2, dec2], names=('ra', 'dec'))\n",
    "\n",
    "# Convert RA/DEC to SkyCoord objects for matching\n",
    "coords1 = SkyCoord(ra=catalog1['ra']*u.degree, dec=catalog1['dec']*u.degree)\n",
    "coords2 = SkyCoord(ra=catalog2['ra']*u.degree, dec=catalog2['dec']*u.degree)\n",
    "\n",
    "# Perform cross-matching between the two catalogs\n",
    "idx, d2d, _ = coords1.match_to_catalog_sky(coords2)\n",
    "\n",
    "# if the matching is successful, the indices should be the same as the range of the number of objects\n",
    "assert np.all(idx == np.arange(n_objects))\n",
    "\n",
    "# Get the indices and separations (in degrees) for the matched objects\n",
    "matched_catalog1 = catalog1\n",
    "matched_catalog2 = catalog2[idx]\n",
    "separations = d2d.to(u.arcsec)  # Convert separations to arcseconds\n",
    "\n",
    "# Add separations to the table for reference\n",
    "matched_catalog1['separation_arcsec'] = separations"
   ]
  }
 ],
 "metadata": {
  "kernelspec": {
   "display_name": "Python 3",
   "language": "python",
   "name": "python3"
  },
  "language_info": {
   "codemirror_mode": {
    "name": "ipython",
    "version": 3
   },
   "file_extension": ".py",
   "mimetype": "text/x-python",
   "name": "python",
   "nbconvert_exporter": "python",
   "pygments_lexer": "ipython3",
   "version": "3.12.5"
  }
 },
 "nbformat": 4,
 "nbformat_minor": 2
}
